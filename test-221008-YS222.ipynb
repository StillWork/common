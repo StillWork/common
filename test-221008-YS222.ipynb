{
 "cells": [
  {
   "cell_type": "markdown",
   "id": "d442b5ad",
   "metadata": {},
   "source": [
    "# 파이썬 프로그래밍 테스트\n",
    "\n",
    "### 답안은 pdf 또는 html로 저장하여 메일로 제출하시오 \n",
    "- hjkim3@gmail.com\n",
    "- Control-P 로 출력하면서 pdf로 저장하거나,\n",
    "- File - Download as - HTML로 저장하면 됩니다"
   ]
  },
  {
   "cell_type": "code",
   "execution_count": 1,
   "id": "ef3660ca",
   "metadata": {},
   "outputs": [],
   "source": [
    "import pandas as pd\n",
    "import numpy as np\n",
    "import matplotlib.pyplot as plt"
   ]
  },
  {
   "cell_type": "markdown",
   "id": "902ead78",
   "metadata": {},
   "source": [
    "## 아래 주어진 데이터프레임 df에 대해서 문제를 풀이하시오"
   ]
  },
  {
   "cell_type": "code",
   "execution_count": 2,
   "id": "bb805db7",
   "metadata": {
    "colab": {},
    "colab_type": "code",
    "id": "nwT_IVMU9BLN"
   },
   "outputs": [
    {
     "data": {
      "text/html": [
       "<div>\n",
       "<style scoped>\n",
       "    .dataframe tbody tr th:only-of-type {\n",
       "        vertical-align: middle;\n",
       "    }\n",
       "\n",
       "    .dataframe tbody tr th {\n",
       "        vertical-align: top;\n",
       "    }\n",
       "\n",
       "    .dataframe thead th {\n",
       "        text-align: right;\n",
       "    }\n",
       "</style>\n",
       "<table border=\"1\" class=\"dataframe\">\n",
       "  <thead>\n",
       "    <tr style=\"text-align: right;\">\n",
       "      <th></th>\n",
       "      <th>city</th>\n",
       "      <th>population</th>\n",
       "      <th>temp</th>\n",
       "    </tr>\n",
       "  </thead>\n",
       "  <tbody>\n",
       "    <tr>\n",
       "      <th>0</th>\n",
       "      <td>서울</td>\n",
       "      <td>990</td>\n",
       "      <td>13</td>\n",
       "    </tr>\n",
       "    <tr>\n",
       "      <th>1</th>\n",
       "      <td>부산</td>\n",
       "      <td>350</td>\n",
       "      <td>16</td>\n",
       "    </tr>\n",
       "    <tr>\n",
       "      <th>2</th>\n",
       "      <td>대구</td>\n",
       "      <td>250</td>\n",
       "      <td>14</td>\n",
       "    </tr>\n",
       "    <tr>\n",
       "      <th>3</th>\n",
       "      <td>대전</td>\n",
       "      <td>154</td>\n",
       "      <td>13</td>\n",
       "    </tr>\n",
       "    <tr>\n",
       "      <th>4</th>\n",
       "      <td>광주</td>\n",
       "      <td>150</td>\n",
       "      <td>15</td>\n",
       "    </tr>\n",
       "  </tbody>\n",
       "</table>\n",
       "</div>"
      ],
      "text/plain": [
       "  city  population  temp\n",
       "0   서울         990    13\n",
       "1   부산         350    16\n",
       "2   대구         250    14\n",
       "3   대전         154    13\n",
       "4   광주         150    15"
      ]
     },
     "execution_count": 2,
     "metadata": {},
     "output_type": "execute_result"
    }
   ],
   "source": [
    "d = {'city': ['서울', '부산', '대구', '대전', '광주'],\n",
    "        'population': [990, 350, 250, 154, 150],\n",
    "        'temp': [13, 16, 14, 13, 15]}\n",
    "\n",
    "df = pd.DataFrame(d)\n",
    "df"
   ]
  },
  {
   "cell_type": "markdown",
   "id": "862c8719",
   "metadata": {},
   "source": [
    "### (1) 인구(population)가 200 이상인 샘플(행)만 추출하시오"
   ]
  },
  {
   "cell_type": "code",
   "execution_count": null,
   "id": "c058c40b",
   "metadata": {},
   "outputs": [],
   "source": []
  },
  {
   "cell_type": "markdown",
   "id": "fb83f972",
   "metadata": {},
   "source": [
    "### (2) 인구가 많은 순으로 (내림차순으로) 정렬한 데이터프레임을 만드시오"
   ]
  },
  {
   "cell_type": "code",
   "execution_count": null,
   "id": "42c19c16",
   "metadata": {},
   "outputs": [],
   "source": []
  },
  {
   "cell_type": "markdown",
   "id": "7a7fb458",
   "metadata": {},
   "source": [
    "### (3) df의 5개 도시의 인구의 평균치를 구하고 인구가 이 평균치보다 적은 도시 행을 출력하시오"
   ]
  },
  {
   "cell_type": "code",
   "execution_count": null,
   "id": "ad8b366a",
   "metadata": {},
   "outputs": [],
   "source": []
  },
  {
   "cell_type": "markdown",
   "id": "847e4512",
   "metadata": {},
   "source": [
    "### (4) df2를 df2.csv 파일로 저장하는 프로그램을 작성하시오"
   ]
  },
  {
   "cell_type": "code",
   "execution_count": null,
   "id": "c48444a8",
   "metadata": {},
   "outputs": [],
   "source": []
  },
  {
   "cell_type": "markdown",
   "id": "755a53d9",
   "metadata": {},
   "source": [
    "## 아래의 (6,5) 모양의 어레이 x에 대해서 문제를 풀이하시오"
   ]
  },
  {
   "cell_type": "code",
   "execution_count": 11,
   "id": "c8ff13f1",
   "metadata": {},
   "outputs": [
    {
     "data": {
      "text/plain": [
       "array([[ 0,  1,  2,  3,  4],\n",
       "       [ 5,  6,  7,  8,  9],\n",
       "       [10, 11, 12, 13, 14],\n",
       "       [15, 16, 17, 18, 19],\n",
       "       [20, 21, 22, 23, 24],\n",
       "       [25, 26, 27, 28, 29]])"
      ]
     },
     "execution_count": 11,
     "metadata": {},
     "output_type": "execute_result"
    }
   ],
   "source": [
    "x = np.arange(30).reshape(6,5)\n",
    "x"
   ]
  },
  {
   "cell_type": "markdown",
   "id": "f4379d43",
   "metadata": {},
   "source": [
    "### (5) 위의 x에는 6개의 행이 있는데 홀수번째의 행만 추출한(즉, 샘플 데이터를 반으로 줄인) x2를 얻는 코드를 작성하시오"
   ]
  },
  {
   "cell_type": "code",
   "execution_count": null,
   "id": "fe011416",
   "metadata": {},
   "outputs": [],
   "source": []
  },
  {
   "cell_type": "markdown",
   "id": "18d93865",
   "metadata": {},
   "source": [
    "### (6) 위의 (6,5) 모양의 어레이 x에 대해서 각 행(row)의 합계를 우측에 기록한 후, 각 열(column)의 평균값을 아래에 나타내는 (7,6) 크기의 데이터프레임 df3을 만드시오\n"
   ]
  },
  {
   "cell_type": "code",
   "execution_count": null,
   "id": "a3051d2d",
   "metadata": {},
   "outputs": [],
   "source": []
  },
  {
   "cell_type": "markdown",
   "id": "00ceeeb1",
   "metadata": {},
   "source": [
    "### (7) 위의 데이터프레임 df3의 수치 값만 포함하는 (7,6) 크기의 어레이 x3를 만드시오"
   ]
  },
  {
   "cell_type": "code",
   "execution_count": null,
   "id": "e865e125",
   "metadata": {},
   "outputs": [],
   "source": []
  },
  {
   "cell_type": "markdown",
   "id": "5dcec8b3",
   "metadata": {},
   "source": [
    "### (8) $x, y$ 의 입출력 관계가 $ y = 0.2x^2 -0.5x +2$와 같을 때 $ 0 < x < 5 $ 범위에서 $x, y$의 관계를 그래프로 그리시오"
   ]
  },
  {
   "cell_type": "code",
   "execution_count": null,
   "id": "6d1c5cc4",
   "metadata": {},
   "outputs": [],
   "source": []
  }
 ],
 "metadata": {
  "kernelspec": {
   "display_name": "Python 3",
   "language": "python",
   "name": "python3"
  },
  "language_info": {
   "codemirror_mode": {
    "name": "ipython",
    "version": 3
   },
   "file_extension": ".py",
   "mimetype": "text/x-python",
   "name": "python",
   "nbconvert_exporter": "python",
   "pygments_lexer": "ipython3",
   "version": "3.8.8"
  },
  "toc": {
   "base_numbering": 1,
   "nav_menu": {},
   "number_sections": false,
   "sideBar": true,
   "skip_h1_title": false,
   "title_cell": "Table of Contents",
   "title_sidebar": "Contents",
   "toc_cell": false,
   "toc_position": {},
   "toc_section_display": true,
   "toc_window_display": false
  }
 },
 "nbformat": 4,
 "nbformat_minor": 5
}
