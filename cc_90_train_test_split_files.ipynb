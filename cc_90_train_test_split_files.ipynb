{
 "cells": [
  {
   "cell_type": "code",
   "execution_count": null,
   "id": "7b23ce5e",
   "metadata": {},
   "outputs": [],
   "source": [
    "files = os.listdir(folder)\n",
    "train_list = list(random.choice(files, 70, replace=False))\n",
    "test_list = list(set(files) - set(train_list))\n",
    "\n",
    "print(len(train_list))\n",
    "print(len(test_list))\n",
    "\n",
    "import shutil\n",
    "for file in train_list:\n",
    "    shutil.copy2(file, './train_folder')\n",
    "for file in test_list:\n",
    "    shutil.copy2(file, './test_folder')"
   ]
  }
 ],
 "metadata": {
  "kernelspec": {
   "display_name": "Python 3",
   "language": "python",
   "name": "python3"
  },
  "language_info": {
   "codemirror_mode": {
    "name": "ipython",
    "version": 3
   },
   "file_extension": ".py",
   "mimetype": "text/x-python",
   "name": "python",
   "nbconvert_exporter": "python",
   "pygments_lexer": "ipython3",
   "version": "3.8.8"
  },
  "toc": {
   "base_numbering": 1,
   "nav_menu": {},
   "number_sections": false,
   "sideBar": true,
   "skip_h1_title": false,
   "title_cell": "Table of Contents",
   "title_sidebar": "Contents",
   "toc_cell": false,
   "toc_position": {},
   "toc_section_display": true,
   "toc_window_display": false
  }
 },
 "nbformat": 4,
 "nbformat_minor": 5
}
